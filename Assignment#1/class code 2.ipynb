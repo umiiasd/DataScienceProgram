{
 "cells": [
  {
   "cell_type": "code",
   "execution_count": 1,
   "id": "cca8664b",
   "metadata": {},
   "outputs": [
    {
     "name": "stdout",
     "output_type": "stream",
     "text": [
      "Twinkle,twinkle,little star,\n",
      "\tHow i wonder what you are!\n",
      "\t\tUp above the world so high,\n",
      "\t\tLike a diamond in the sky.\n",
      "Twinkle,twinkle,little star,\n",
      "\tHow i wonder what you are\n"
     ]
    }
   ],
   "source": [
    "#Q1-->Print the following string in specific format\n",
    "print(\"Twinkle,twinkle,little star,\\n\\tHow i wonder what you are!\\n\\t\\tUp above the world so high,\\n\\t\\tLike a diamond in the sky.\\nTwinkle,twinkle,little star,\\n\\tHow i wonder what you are\")"
   ]
  },
  {
   "cell_type": "code",
   "execution_count": 2,
   "id": "da811ecb",
   "metadata": {},
   "outputs": [
    {
     "name": "stdout",
     "output_type": "stream",
     "text": [
      "Python version:\n",
      "3.8.10 (default, May 19 2021, 13:12:57) [MSC v.1916 64 bit (AMD64)]\n"
     ]
    }
   ],
   "source": [
    "#Q2-->get python version\n",
    "import sys  #import sys module\n",
    "print(\"Python version:\");\n",
    "print(sys.version);"
   ]
  },
  {
   "cell_type": "code",
   "execution_count": 3,
   "id": "b1a12d5b",
   "metadata": {},
   "outputs": [
    {
     "name": "stdout",
     "output_type": "stream",
     "text": [
      "Current Date and Time =  29-12-2021 12:49:47\n"
     ]
    }
   ],
   "source": [
    "#Q3-->display current date and time\n",
    "from datetime import datetime  #import module datetime\n",
    "now = datetime.now();   \n",
    "date_time = now.strftime(\"%d-%m-%Y %H:%M:%S\");  #strftime method to make readable string\n",
    "print(\"Current Date and Time = \",date_time);"
   ]
  },
  {
   "cell_type": "code",
   "execution_count": 4,
   "id": "e6f9ac8c",
   "metadata": {},
   "outputs": [
    {
     "name": "stdout",
     "output_type": "stream",
     "text": [
      "Enter Radius of Circle = 2.24\n",
      "Area Of Circle =  15.755264000000002\n"
     ]
    }
   ],
   "source": [
    "#Q4-->compute Area of Circle\n",
    "r = float(input(\"Enter Radius of Circle = \"));\n",
    "area = 3.14*(r)**2;  #r**2 is \"r square\"\n",
    "print(\"Area Of Circle = \", area);"
   ]
  },
  {
   "cell_type": "code",
   "execution_count": 5,
   "id": "7f27c2fd",
   "metadata": {},
   "outputs": [
    {
     "name": "stdout",
     "output_type": "stream",
     "text": [
      "Enter your First Name = Umar\n",
      "Enter your Last Name  = Ali\n",
      "Reverse Order of Full Name:\n",
      "Ali Umar\n"
     ]
    }
   ],
   "source": [
    "#Q5-->get 1st and last name and print reverse order with space\n",
    "f_name = str(input(\"Enter your First Name = \"));\n",
    "l_name = str(input(\"Enter your Last Name  = \"));\n",
    "reverse = l_name + \" \" +f_name;\n",
    "print(\"Reverse Order of Full Name:\");\n",
    "print(reverse);"
   ]
  },
  {
   "cell_type": "code",
   "execution_count": 7,
   "id": "70296d6d",
   "metadata": {},
   "outputs": [
    {
     "name": "stdout",
     "output_type": "stream",
     "text": [
      "Enter First Number = 20\n",
      "Enter Second Number = 50.56\n",
      "Addition of Two Numbers =  70.56\n"
     ]
    }
   ],
   "source": [
    "#Q6-->get input from user and print addition\n",
    "num1 = float(input(\"Enter First Number = \"));\n",
    "num2 = float(input(\"Enter Second Number = \"));\n",
    "add = num1+num2;\n",
    "print(\"Addition of Two Numbers = \",add)"
   ]
  },
  {
   "cell_type": "code",
   "execution_count": null,
   "id": "c1cfe60e",
   "metadata": {},
   "outputs": [],
   "source": []
  }
 ],
 "metadata": {
  "kernelspec": {
   "display_name": "Python 3",
   "language": "python",
   "name": "python3"
  },
  "language_info": {
   "codemirror_mode": {
    "name": "ipython",
    "version": 3
   },
   "file_extension": ".py",
   "mimetype": "text/x-python",
   "name": "python",
   "nbconvert_exporter": "python",
   "pygments_lexer": "ipython3",
   "version": "3.8.10"
  }
 },
 "nbformat": 4,
 "nbformat_minor": 5
}
